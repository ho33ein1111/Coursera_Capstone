{
 "cells": [
  {
   "cell_type": "markdown",
   "metadata": {},
   "source": [
    "# Neighborhood and Venues Data Analysis of Vancouver"
   ]
  },
  {
   "cell_type": "markdown",
   "metadata": {},
   "source": [
    "## A. Introduction/Business Problem"
   ]
  },
  {
   "cell_type": "markdown",
   "metadata": {},
   "source": [
    "### A.1. Description of the problem and a discussion of the background"
   ]
  },
  {
   "cell_type": "markdown",
   "metadata": {},
   "source": [
    "Vancouver is a coastal seaport city in western Canada, located in the Lower Mainland region of British Columbia. As the most populous city in the province, the 2016 census recorded 631,486 people in the city, up from 603,502 in 2011. The Greater Vancouver area had a population of 2,463,431 in 2016, making it the third-largest metropolitan area in Canada. Vancouver has the highest population density in Canada, with over 5,400 people per square kilometer, which makes it the fifth-most densely populated city with over 250,000 residents in North America.Vancouver has been called a \"city of neighborhoods. Each neighborhood in Vancouver has a distinct character and ethnic mix.\n",
    "\n",
    "In this project, we will try to find an optimal location for a Cofee Shop. Specifically, this report will be targeted to investors interested in opening a Coffee Shop in Vancouver, Canada.\n",
    "\n",
    "Since there are lots of cafes in Vancouver we will try to detect locations that are less crowded with coffee shops. We are also particularly interested in areas with no coffee shops in the vicinity. Also, locations as close as possible to the city center are preferred, assuming that the first two conditions are met. On the other hand, we will check each Borough through the number of universities and colleges due to the fact that college and university students are the potential target market for cafes.\n"
   ]
  }
 ],
 "metadata": {
  "kernelspec": {
   "display_name": "Python",
   "language": "python",
   "name": "conda-env-python-py"
  },
  "language_info": {
   "codemirror_mode": {
    "name": "ipython",
    "version": 3
   },
   "file_extension": ".py",
   "mimetype": "text/x-python",
   "name": "python",
   "nbconvert_exporter": "python",
   "pygments_lexer": "ipython3",
   "version": "3.6.7"
  }
 },
 "nbformat": 4,
 "nbformat_minor": 4
}
